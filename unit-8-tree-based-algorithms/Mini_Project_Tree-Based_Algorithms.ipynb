{
 "cells": [
  {
   "cell_type": "markdown",
   "metadata": {},
   "source": [
    "# Mini Project: Tree-Based Algorithms"
   ]
  },
  {
   "cell_type": "markdown",
   "metadata": {},
   "source": [
    "## The \"German Credit\" Dataset"
   ]
  },
  {
   "cell_type": "markdown",
   "metadata": {},
   "source": [
    "### Dataset Details"
   ]
  },
  {
   "cell_type": "markdown",
   "metadata": {},
   "source": [
    "This dataset has two classes (these would be considered labels in Machine Learning terms) to describe the worthiness of a personal loan: \"Good\" or \"Bad\". There are predictors related to attributes, such as: checking account status, duration, credit history, purpose of the loan, amount of the loan, savings accounts or bonds, employment duration, installment rate in percentage of disposable income, personal information, other debtors/guarantors, residence duration, property, age, other installment plans, housing, number of existing credits, job information, number of people being liable to provide maintenance for, telephone, and foreign worker status.\n",
    "\n",
    "Many of these predictors are discrete and have been expanded into several 0/1 indicator variables (a.k.a. they have been one-hot-encoded).\n",
    "\n",
    "This dataset has been kindly provided by Professor Dr. Hans Hofmann of the University of Hamburg, and can also be found on the UCI Machine Learning Repository."
   ]
  },
  {
   "cell_type": "markdown",
   "metadata": {},
   "source": [
    "\n",
    "\n",
    "\n"
   ]
  },
  {
   "cell_type": "markdown",
   "metadata": {},
   "source": [
    "## Decision Trees"
   ]
  },
  {
   "cell_type": "markdown",
   "metadata": {},
   "source": [
    " As we have learned in the previous lectures, Decision Trees as a family of algorithms (irrespective to the particular implementation) are powerful algorithms that can produce models with a predictive accuracy higher than that produced by linear models, such as Linear or Logistic Regression. Primarily, this is due to the fact the DT's can model nonlinear relationships, and also have a number of tuning paramters, that allow for the practicioner to achieve the best possible model. An added bonus is the ability to visualize the trained Decision Tree model, which allows for some insight into how the model has produced the predictions that it has. One caveat here, to keep in mind, is that sometimes, due to the size of the dataset (both in the sense of the number of records, as well as the number of features), the visualization might prove to be very large and complex, increasing the difficulty of interpretation."
   ]
  },
  {
   "cell_type": "markdown",
   "metadata": {},
   "source": [
    "To give you a very good example of how Decision Trees can be visualized and interpreted, we would strongly recommend that, before continuing on with solving the problems in this Mini Project, you take the time to read this fanstastic, detailed and informative blog post: http://explained.ai/decision-tree-viz/index.html"
   ]
  },
  {
   "cell_type": "markdown",
   "metadata": {},
   "source": [
    "## Building Your First Decision Tree Model"
   ]
  },
  {
   "cell_type": "markdown",
   "metadata": {},
   "source": [
    "So, now it's time to jump straight into the heart of the matter. Your first task, is to build a Decision Tree model, using the aforementioned \"German Credit\" dataset, which contains 1,000 records, and 62 columns (one of them presents the labels, and the other 61 present the potential features for the model.)"
   ]
  },
  {
   "cell_type": "markdown",
   "metadata": {},
   "source": [
    "For this task, you will be using the scikit-learn library, which comes already pre-installed with the Anaconda Python distribution. In case you're not using that, you can easily install it using pip."
   ]
  },
  {
   "cell_type": "markdown",
   "metadata": {},
   "source": [
    "Before embarking on creating your first model, we would strongly encourage you to read the short tutorial for Decision Trees in scikit-learn (http://scikit-learn.org/stable/modules/tree.html), and then dive a bit deeper into the documentation of the algorithm itself (http://scikit-learn.org/stable/modules/generated/sklearn.tree.DecisionTreeClassifier.html). "
   ]
  },
  {
   "cell_type": "markdown",
   "metadata": {},
   "source": [
    "Also, since you want to be able to present the results of your model, we suggest you take a look at the tutorial for accuracy metrics for classification models (http://scikit-learn.org/stable/modules/model_evaluation.html#classification-report) as well as the more detailed documentation (http://scikit-learn.org/stable/modules/generated/sklearn.metrics.classification_report.html).\n",
    "\n",
    "Finally, an *amazing* resource that explains the various classification model accuracy metrics, as well as the relationships between them, can be found on Wikipedia: https://en.wikipedia.org/wiki/Confusion_matrix"
   ]
  },
  {
   "cell_type": "markdown",
   "metadata": {},
   "source": [
    "(Note: as you've already learned in the Logistic Regression mini project, a standard practice in Machine Learning for achieving the best possible result when training a model is to use hyperparameter tuning, through Grid Search and k-fold Cross Validation. We strongly encourage you to use it here as well, not just because it's standard practice, but also becuase it's not going to be computationally to intensive, due to the size of the dataset that you're working with. Our suggestion here is that you split the data into 70% training, and 30% testing. Then, do the hyperparameter tuning and Cross Validation on the training set, and afterwards to a final test on the testing set.)"
   ]
  },
  {
   "cell_type": "markdown",
   "metadata": {},
   "source": [
    "### Now we pass the torch onto you! You can start building your first Decision Tree model! :)"
   ]
  },
  {
   "cell_type": "code",
   "execution_count": 1,
   "metadata": {},
   "outputs": [],
   "source": [
    "import pandas as pd\n",
    "from sklearn.tree import DecisionTreeClassifier\n",
    "from sklearn.metrics import classification_report\n",
    "from sklearn.model_selection import train_test_split\n",
    "from sklearn.model_selection import GridSearchCV\n",
    "import numpy as np\n",
    "import matplotlib.pyplot as plt"
   ]
  },
  {
   "cell_type": "code",
   "execution_count": 2,
   "metadata": {},
   "outputs": [
    {
     "data": {
      "text/plain": [
       "Index(['Duration', 'Amount', 'InstallmentRatePercentage', 'ResidenceDuration',\n",
       "       'Age', 'NumberExistingCredits', 'NumberPeopleMaintenance', 'Telephone',\n",
       "       'ForeignWorker', 'Class', 'CheckingAccountStatus.lt.0',\n",
       "       'CheckingAccountStatus.0.to.200', 'CheckingAccountStatus.gt.200',\n",
       "       'CheckingAccountStatus.none', 'CreditHistory.NoCredit.AllPaid',\n",
       "       'CreditHistory.ThisBank.AllPaid', 'CreditHistory.PaidDuly',\n",
       "       'CreditHistory.Delay', 'CreditHistory.Critical', 'Purpose.NewCar',\n",
       "       'Purpose.UsedCar', 'Purpose.Furniture.Equipment',\n",
       "       'Purpose.Radio.Television', 'Purpose.DomesticAppliance',\n",
       "       'Purpose.Repairs', 'Purpose.Education', 'Purpose.Vacation',\n",
       "       'Purpose.Retraining', 'Purpose.Business', 'Purpose.Other',\n",
       "       'SavingsAccountBonds.lt.100', 'SavingsAccountBonds.100.to.500',\n",
       "       'SavingsAccountBonds.500.to.1000', 'SavingsAccountBonds.gt.1000',\n",
       "       'SavingsAccountBonds.Unknown', 'EmploymentDuration.lt.1',\n",
       "       'EmploymentDuration.1.to.4', 'EmploymentDuration.4.to.7',\n",
       "       'EmploymentDuration.gt.7', 'EmploymentDuration.Unemployed',\n",
       "       'Personal.Male.Divorced.Seperated', 'Personal.Female.NotSingle',\n",
       "       'Personal.Male.Single', 'Personal.Male.Married.Widowed',\n",
       "       'Personal.Female.Single', 'OtherDebtorsGuarantors.None',\n",
       "       'OtherDebtorsGuarantors.CoApplicant',\n",
       "       'OtherDebtorsGuarantors.Guarantor', 'Property.RealEstate',\n",
       "       'Property.Insurance', 'Property.CarOther', 'Property.Unknown',\n",
       "       'OtherInstallmentPlans.Bank', 'OtherInstallmentPlans.Stores',\n",
       "       'OtherInstallmentPlans.None', 'Housing.Rent', 'Housing.Own',\n",
       "       'Housing.ForFree', 'Job.UnemployedUnskilled', 'Job.UnskilledResident',\n",
       "       'Job.SkilledEmployee', 'Job.Management.SelfEmp.HighlyQualified'],\n",
       "      dtype='object')"
      ]
     },
     "execution_count": 2,
     "metadata": {},
     "output_type": "execute_result"
    }
   ],
   "source": [
    "# Your code here! :)\n",
    "df = pd.read_csv(\"GermanCredit.csv\")\n",
    "df.shape\n",
    "df.columns"
   ]
  },
  {
   "cell_type": "code",
   "execution_count": 3,
   "metadata": {},
   "outputs": [
    {
     "name": "stdout",
     "output_type": "stream",
     "text": [
      "0      0\n",
      "1      1\n",
      "2      0\n",
      "3      0\n",
      "4      1\n",
      "5      0\n",
      "6      0\n",
      "7      0\n",
      "8      0\n",
      "9      1\n",
      "10     1\n",
      "11     1\n",
      "12     0\n",
      "13     1\n",
      "14     0\n",
      "15     1\n",
      "16     0\n",
      "17     0\n",
      "18     1\n",
      "19     0\n",
      "20     0\n",
      "21     0\n",
      "22     0\n",
      "23     0\n",
      "24     0\n",
      "25     0\n",
      "26     0\n",
      "27     0\n",
      "28     0\n",
      "29     1\n",
      "      ..\n",
      "970    0\n",
      "971    0\n",
      "972    1\n",
      "973    1\n",
      "974    0\n",
      "975    0\n",
      "976    0\n",
      "977    0\n",
      "978    1\n",
      "979    1\n",
      "980    1\n",
      "981    1\n",
      "982    0\n",
      "983    1\n",
      "984    0\n",
      "985    0\n",
      "986    0\n",
      "987    0\n",
      "988    0\n",
      "989    0\n",
      "990    0\n",
      "991    0\n",
      "992    0\n",
      "993    0\n",
      "994    0\n",
      "995    0\n",
      "996    0\n",
      "997    0\n",
      "998    1\n",
      "999    0\n",
      "Name: Class, Length: 1000, dtype: int64\n"
     ]
    }
   ],
   "source": [
    "labels = df.Class\n",
    "df = df.drop(\"Class\", axis = 1)\n",
    "labels = labels.map({\"Good\":0,\"Bad\":1})\n",
    "print(labels)"
   ]
  },
  {
   "cell_type": "code",
   "execution_count": 4,
   "metadata": {},
   "outputs": [],
   "source": [
    "X_train, X_test, y_train, y_test = train_test_split(df, labels, test_size=0.70, random_state=42)"
   ]
  },
  {
   "cell_type": "code",
   "execution_count": 5,
   "metadata": {},
   "outputs": [
    {
     "name": "stderr",
     "output_type": "stream",
     "text": [
      "C:\\Users\\alex0\\Anaconda3\\lib\\site-packages\\sklearn\\model_selection\\_search.py:841: DeprecationWarning: The default of the `iid` parameter will change from True to False in version 0.22 and will be removed in 0.24. This will change numeric results when test-set sizes are unequal.\n",
      "  DeprecationWarning)\n"
     ]
    },
    {
     "data": {
      "text/plain": [
       "GridSearchCV(cv=5, error_score='raise-deprecating',\n",
       "       estimator=DecisionTreeClassifier(class_weight=None, criterion='gini', max_depth=None,\n",
       "            max_features=None, max_leaf_nodes=None,\n",
       "            min_impurity_decrease=0.0, min_impurity_split=None,\n",
       "            min_samples_leaf=1, min_samples_split=2,\n",
       "            min_weight_fraction_leaf=0.0, presort=False, random_state=None,\n",
       "            splitter='best'),\n",
       "       fit_params=None, iid='warn', n_jobs=None,\n",
       "       param_grid={'min_samples_split': range(20, 70, 5), 'max_depth': range(1, 7)},\n",
       "       pre_dispatch='2*n_jobs', refit=True, return_train_score='warn',\n",
       "       scoring=None, verbose=0)"
      ]
     },
     "execution_count": 5,
     "metadata": {},
     "output_type": "execute_result"
    }
   ],
   "source": [
    "parameters = {'min_samples_split' : range(20,70,5),'max_depth': range(1,7,1)}\n",
    "clf_tree = DecisionTreeClassifier()\n",
    "clf = GridSearchCV(clf_tree, parameters, cv = 5)\n",
    "clf.fit(X_train, y_train)"
   ]
  },
  {
   "cell_type": "code",
   "execution_count": 6,
   "metadata": {},
   "outputs": [],
   "source": [
    "out = clf.predict(X_test)"
   ]
  },
  {
   "cell_type": "code",
   "execution_count": 7,
   "metadata": {},
   "outputs": [
    {
     "name": "stdout",
     "output_type": "stream",
     "text": [
      "{'max_depth': 4, 'min_samples_split': 20}\n"
     ]
    }
   ],
   "source": [
    "print(clf.best_params_)"
   ]
  },
  {
   "cell_type": "code",
   "execution_count": 8,
   "metadata": {},
   "outputs": [
    {
     "name": "stdout",
     "output_type": "stream",
     "text": [
      "0.7128571428571429\n"
     ]
    }
   ],
   "source": [
    "decision_tree = len(y_test.values[y_test.values == clf.predict(X_test)]) / len(X_test) \n",
    "print(decision_tree)"
   ]
  },
  {
   "cell_type": "code",
   "execution_count": 9,
   "metadata": {},
   "outputs": [
    {
     "name": "stdout",
     "output_type": "stream",
     "text": [
      "0.7933333333333333\n"
     ]
    }
   ],
   "source": [
    "print(len(y_train.values[y_train.values == clf.predict(X_train)]) / len(X_train))"
   ]
  },
  {
   "cell_type": "code",
   "execution_count": 10,
   "metadata": {},
   "outputs": [
    {
     "data": {
      "text/plain": [
       "array([0, 1], dtype=int64)"
      ]
     },
     "execution_count": 10,
     "metadata": {},
     "output_type": "execute_result"
    }
   ],
   "source": [
    "labels.unique()"
   ]
  },
  {
   "cell_type": "markdown",
   "metadata": {},
   "source": [
    "### After you've built the best model you can, now it's time to visualize it!"
   ]
  },
  {
   "cell_type": "markdown",
   "metadata": {},
   "source": [
    "Rememeber that amazing blog post from a few paragraphs ago, that demonstrated how to visualize and interpret the results of your Decision Tree model. We've seen that this can perform very well, but let's see how it does on the \"German Credit\" dataset that we're working on, due to it being a bit larger than the one used by the blog authors."
   ]
  },
  {
   "cell_type": "markdown",
   "metadata": {},
   "source": [
    "First, we're going to need to install their package. If you're using Anaconda, this can be done easily by running:"
   ]
  },
  {
   "cell_type": "code",
   "execution_count": 11,
   "metadata": {},
   "outputs": [
    {
     "name": "stdout",
     "output_type": "stream",
     "text": [
      "Requirement already satisfied: dtreeviz in c:\\users\\alex0\\anaconda3\\lib\\site-packages (0.3.3)\n",
      "Requirement already satisfied: colour in c:\\users\\alex0\\anaconda3\\lib\\site-packages (from dtreeviz) (0.1.5)\n",
      "Requirement already satisfied: scikit-learn in c:\\users\\alex0\\anaconda3\\lib\\site-packages (from dtreeviz) (0.20.3)\n",
      "Requirement already satisfied: graphviz>=0.9 in c:\\users\\alex0\\anaconda3\\lib\\site-packages (from dtreeviz) (0.10.1)\n",
      "Requirement already satisfied: numpy in c:\\users\\alex0\\anaconda3\\lib\\site-packages (from dtreeviz) (1.16.2)\n",
      "Requirement already satisfied: pandas in c:\\users\\alex0\\anaconda3\\lib\\site-packages (from dtreeviz) (0.24.2)\n",
      "Requirement already satisfied: matplotlib in c:\\users\\alex0\\anaconda3\\lib\\site-packages (from dtreeviz) (3.0.2)\n",
      "Requirement already satisfied: scipy>=0.13.3 in c:\\users\\alex0\\anaconda3\\lib\\site-packages (from scikit-learn->dtreeviz) (1.2.1)\n",
      "Requirement already satisfied: python-dateutil>=2.5.0 in c:\\users\\alex0\\anaconda3\\lib\\site-packages (from pandas->dtreeviz) (2.8.0)\n",
      "Requirement already satisfied: pytz>=2011k in c:\\users\\alex0\\anaconda3\\lib\\site-packages (from pandas->dtreeviz) (2018.9)\n",
      "Requirement already satisfied: cycler>=0.10 in c:\\users\\alex0\\anaconda3\\lib\\site-packages (from matplotlib->dtreeviz) (0.10.0)\n",
      "Requirement already satisfied: kiwisolver>=1.0.1 in c:\\users\\alex0\\anaconda3\\lib\\site-packages (from matplotlib->dtreeviz) (1.0.1)\n",
      "Requirement already satisfied: pyparsing!=2.0.4,!=2.1.2,!=2.1.6,>=2.0.1 in c:\\users\\alex0\\anaconda3\\lib\\site-packages (from matplotlib->dtreeviz) (2.3.1)\n",
      "Requirement already satisfied: six>=1.5 in c:\\users\\alex0\\appdata\\roaming\\python\\python36\\site-packages (from python-dateutil>=2.5.0->pandas->dtreeviz) (1.12.0)\n",
      "Requirement already satisfied: setuptools in c:\\users\\alex0\\anaconda3\\lib\\site-packages (from kiwisolver>=1.0.1->matplotlib->dtreeviz) (40.8.0)\n",
      "Requirement already satisfied: graphviz in c:\\users\\alex0\\anaconda3\\lib\\site-packages (0.10.1)\n"
     ]
    }
   ],
   "source": [
    "! pip install dtreeviz\n",
    "! pip install graphviz"
   ]
  },
  {
   "cell_type": "markdown",
   "metadata": {},
   "source": [
    "If for any reason this way of installing doesn't work for you straight out of the box, please refer to the more detailed documentation here: https://github.com/parrt/dtreeviz"
   ]
  },
  {
   "cell_type": "markdown",
   "metadata": {},
   "source": [
    "Now you're ready to visualize your Decision Tree model! Please feel free to use the blog post for guidance and inspiration!"
   ]
  },
  {
   "cell_type": "code",
   "execution_count": 12,
   "metadata": {},
   "outputs": [],
   "source": [
    "from sklearn.datasets import *\n",
    "from sklearn import tree\n",
    "from dtreeviz.trees import *\n",
    "import os\n",
    "os.environ[\"PATH\"] += os.pathsep + 'C:/Program Files (x86)/Graphviz2.38/bin/'\n",
    "%matplotlib inline"
   ]
  },
  {
   "cell_type": "code",
   "execution_count": 13,
   "metadata": {},
   "outputs": [],
   "source": [
    "\n",
    "#print(y_train.values)\n",
    "\n",
    "feature_names = df.columns.values.tolist()\n",
    "viz = dtreeviz(clf.best_estimator_,\n",
    "               X_train,\n",
    "               y_train.values,\n",
    "               target_name = 'Class',\n",
    "               feature_names = feature_names,\n",
    "               class_names = ['Good', 'Bad'])\n",
    "\n",
    "viz.view() "
   ]
  },
  {
   "cell_type": "markdown",
   "metadata": {},
   "source": [
    "## Random Forests"
   ]
  },
  {
   "cell_type": "markdown",
   "metadata": {},
   "source": [
    "As discussed in the lecture videos, Decision Tree algorithms also have certain undesireable properties. Mainly the have low bias, which is good, but tend to have high variance - which is *not* so good (more about this problem here: https://en.wikipedia.org/wiki/Bias%E2%80%93variance_tradeoff)."
   ]
  },
  {
   "cell_type": "markdown",
   "metadata": {},
   "source": [
    "Noticing these problems, the late Professor Leo Breiman, in 2001, developed the Random Forests algorithm, which mitigates these problems, while at the same time providing even higher predictive accuracy than the majority of Decision Tree algorithm implementations. While the curriculum contains two excellent lectures on Random Forests, if you're interested, you can dive into the original paper here: https://link.springer.com/content/pdf/10.1023%2FA%3A1010933404324.pdf."
   ]
  },
  {
   "cell_type": "markdown",
   "metadata": {},
   "source": [
    "In the next part of this assignment, your are going to use the same \"German Credit\" dataset to train, tune, and measure the performance of a Random Forests model. You will also see certain functionalities that this model, even though it's a bit of a \"black box\", provides for some degree of interpretability."
   ]
  },
  {
   "cell_type": "markdown",
   "metadata": {},
   "source": [
    "First, let's build a Random Forests model, using the same best practices that you've used for your Decision Trees model. You can reuse the things you've already imported there, so no need to do any re-imports, new train/test splits, or loading up the data again."
   ]
  },
  {
   "cell_type": "code",
   "execution_count": 14,
   "metadata": {},
   "outputs": [],
   "source": [
    "from sklearn.ensemble import RandomForestClassifier"
   ]
  },
  {
   "cell_type": "code",
   "execution_count": 15,
   "metadata": {},
   "outputs": [
    {
     "name": "stderr",
     "output_type": "stream",
     "text": [
      "C:\\Users\\alex0\\Anaconda3\\lib\\site-packages\\sklearn\\model_selection\\_search.py:841: DeprecationWarning: The default of the `iid` parameter will change from True to False in version 0.22 and will be removed in 0.24. This will change numeric results when test-set sizes are unequal.\n",
      "  DeprecationWarning)\n"
     ]
    },
    {
     "data": {
      "text/plain": [
       "GridSearchCV(cv=10, error_score='raise-deprecating',\n",
       "       estimator=RandomForestClassifier(bootstrap=True, class_weight=None, criterion='gini',\n",
       "            max_depth=None, max_features='auto', max_leaf_nodes=None,\n",
       "            min_impurity_decrease=0.0, min_impurity_split=None,\n",
       "            min_samples_leaf=1, min_samples_split=2,\n",
       "            min_weight_fraction_leaf=0.0, n_estimators='warn', n_jobs=None,\n",
       "            oob_score=False, random_state=None, verbose=0,\n",
       "            warm_start=False),\n",
       "       fit_params=None, iid='warn', n_jobs=None,\n",
       "       param_grid={'bootstrap': [True], 'max_depth': range(3, 5), 'max_features': range(7, 10), 'min_samples_leaf': [1], 'min_samples_split': [3], 'n_estimators': range(23, 26)},\n",
       "       pre_dispatch='2*n_jobs', refit=True, return_train_score='warn',\n",
       "       scoring=None, verbose=0)"
      ]
     },
     "execution_count": 15,
     "metadata": {},
     "output_type": "execute_result"
    }
   ],
   "source": [
    "# Your code here! :)\n",
    "parameters = {'bootstrap': [True],\n",
    "    'max_depth': range(3, 5),\n",
    "    'max_features': range(7, 10),\n",
    "    'min_samples_leaf': [1],\n",
    "    'min_samples_split': [3],\n",
    "    'n_estimators': range(23, 26, 1)\n",
    "}\n",
    "clf_tree = RandomForestClassifier()\n",
    "clf = GridSearchCV(clf_tree, parameters, cv = 10)\n",
    "clf.fit(X_train, y_train)"
   ]
  },
  {
   "cell_type": "code",
   "execution_count": 16,
   "metadata": {},
   "outputs": [],
   "source": [
    "out = clf.predict(X_test)"
   ]
  },
  {
   "cell_type": "code",
   "execution_count": 17,
   "metadata": {},
   "outputs": [
    {
     "name": "stdout",
     "output_type": "stream",
     "text": [
      "{'bootstrap': True, 'max_depth': 4, 'max_features': 8, 'min_samples_leaf': 1, 'min_samples_split': 3, 'n_estimators': 25}\n"
     ]
    }
   ],
   "source": [
    "print(clf.best_params_)"
   ]
  },
  {
   "cell_type": "code",
   "execution_count": 18,
   "metadata": {},
   "outputs": [
    {
     "name": "stdout",
     "output_type": "stream",
     "text": [
      "0.7128571428571429\n"
     ]
    }
   ],
   "source": [
    "rand_forest = len(y_test.values[y_test.values == clf.predict(X_test)]) / len(X_test) \n",
    "print(decision_tree)"
   ]
  },
  {
   "cell_type": "code",
   "execution_count": 19,
   "metadata": {},
   "outputs": [
    {
     "name": "stdout",
     "output_type": "stream",
     "text": [
      "0.8066666666666666\n"
     ]
    }
   ],
   "source": [
    "print(len(y_train.values[y_train.values == clf.predict(X_train)]) / len(X_train))"
   ]
  },
  {
   "cell_type": "markdown",
   "metadata": {},
   "source": [
    "As mentioned, there are certain ways to \"peek\" into a model created by the Random Forests algorithm. The first, and most popular one, is the Feature Importance calculation functionality. This allows the ML practitioner to see an ordering of the importance of the features that have contributed the most to the predictive accuracy of the model. \n",
    "\n",
    "You can see how to use this in the scikit-learn documentation (http://scikit-learn.org/stable/modules/generated/sklearn.ensemble.RandomForestClassifier.html#sklearn.ensemble.RandomForestClassifier.feature_importances_). Now, if you tried this, you would just get an ordered table of not directly interpretable numeric values. Thus, it's much more useful to show the feature importance in a visual way. You can see an example of how that's done here: http://scikit-learn.org/stable/auto_examples/ensemble/plot_forest_importances.html#sphx-glr-auto-examples-ensemble-plot-forest-importances-py\n",
    "\n",
    "Now you try! Let's visualize the importance of features from your Random Forests model!"
   ]
  },
  {
   "cell_type": "code",
   "execution_count": 20,
   "metadata": {},
   "outputs": [
    {
     "name": "stdout",
     "output_type": "stream",
     "text": [
      "Feature ranking:\n",
      "1. Duration (0.118859)\n",
      "2. Amount (0.090397)\n",
      "3. InstallmentRatePercentage (0.087446)\n",
      "4. ResidenceDuration (0.079165)\n",
      "5. Age (0.057049)\n",
      "6. NumberExistingCredits (0.052780)\n",
      "7. NumberPeopleMaintenance (0.050703)\n",
      "8. Telephone (0.036587)\n",
      "9. ForeignWorker (0.029365)\n",
      "10. CheckingAccountStatus.lt.0 (0.029039)\n",
      "11. CheckingAccountStatus.0.to.200 (0.024268)\n",
      "12. CheckingAccountStatus.gt.200 (0.021034)\n",
      "13. CheckingAccountStatus.none (0.017427)\n",
      "14. CreditHistory.NoCredit.AllPaid (0.016834)\n",
      "15. CreditHistory.ThisBank.AllPaid (0.016502)\n",
      "16. CreditHistory.PaidDuly (0.016065)\n",
      "17. CreditHistory.Delay (0.015884)\n",
      "18. CreditHistory.Critical (0.015117)\n",
      "19. Purpose.NewCar (0.013057)\n",
      "20. Purpose.UsedCar (0.012369)\n",
      "21. Purpose.Furniture.Equipment (0.011639)\n",
      "22. Purpose.Radio.Television (0.011600)\n",
      "23. Purpose.DomesticAppliance (0.011120)\n",
      "24. Purpose.Repairs (0.010471)\n",
      "25. Purpose.Education (0.010436)\n",
      "26. Purpose.Vacation (0.010308)\n",
      "27. Purpose.Retraining (0.010141)\n",
      "28. Purpose.Business (0.010044)\n",
      "29. Purpose.Other (0.010044)\n",
      "30. SavingsAccountBonds.lt.100 (0.009991)\n",
      "31. SavingsAccountBonds.100.to.500 (0.009871)\n",
      "32. SavingsAccountBonds.500.to.1000 (0.008294)\n",
      "33. SavingsAccountBonds.gt.1000 (0.008191)\n",
      "34. SavingsAccountBonds.Unknown (0.007284)\n",
      "35. EmploymentDuration.lt.1 (0.007278)\n",
      "36. EmploymentDuration.1.to.4 (0.007184)\n",
      "37. EmploymentDuration.4.to.7 (0.007050)\n",
      "38. EmploymentDuration.gt.7 (0.006823)\n",
      "39. EmploymentDuration.Unemployed (0.005846)\n",
      "40. Personal.Male.Divorced.Seperated (0.003975)\n",
      "41. Personal.Female.NotSingle (0.002872)\n",
      "42. Personal.Male.Single (0.002404)\n",
      "43. Personal.Male.Married.Widowed (0.002391)\n",
      "44. Personal.Female.Single (0.002374)\n",
      "45. OtherDebtorsGuarantors.None (0.002211)\n",
      "46. OtherDebtorsGuarantors.CoApplicant (0.001951)\n",
      "47. OtherDebtorsGuarantors.Guarantor (0.001940)\n",
      "48. Property.RealEstate (0.001256)\n",
      "49. Property.Insurance (0.001212)\n",
      "50. Property.CarOther (0.001038)\n",
      "51. Property.Unknown (0.000771)\n",
      "52. OtherInstallmentPlans.Bank (0.000716)\n",
      "53. OtherInstallmentPlans.Stores (0.000616)\n",
      "54. OtherInstallmentPlans.None (0.000535)\n",
      "55. Housing.Rent (0.000174)\n",
      "56. Housing.Own (0.000000)\n",
      "57. Housing.ForFree (0.000000)\n",
      "58. Job.UnemployedUnskilled (0.000000)\n",
      "59. Job.UnskilledResident (0.000000)\n",
      "60. Job.SkilledEmployee (0.000000)\n",
      "61. Job.Management.SelfEmp.HighlyQualified (0.000000)\n"
     ]
    },
    {
     "data": {
      "image/png": "[encoded data removed]",
      "text/plain": [
       "<Figure size 432x288 with 1 Axes>"
      ]
     },
     "metadata": {
      "needs_background": "light"
     },
     "output_type": "display_data"
    }
   ],
   "source": [
    "importances = clf.best_estimator_.feature_importances_\n",
    "std = np.std([tree.feature_importances_ for tree in clf.best_estimator_],\n",
    "             axis=0)\n",
    "indices = np.argsort(importances)[::-1]\n",
    "\n",
    "# Print the feature ranking\n",
    "print(\"Feature ranking:\")\n",
    "\n",
    "for f in range(X_train.shape[1]):\n",
    "    print(\"%d. %s (%f)\" % (f + 1, df.columns.values.tolist()[f], importances[indices[f]]))\n",
    "\n",
    "# Plot the feature importances of the forest\n",
    "plt.figure()\n",
    "plt.title(\"Feature importances\")\n",
    "plt.bar(range(X_train.shape[1]), importances[indices],\n",
    "       color=\"r\", yerr=std[indices], align=\"center\")\n",
    "plt.xticks(range(X_train.shape[1]), indices)\n",
    "plt.xlim([-1, X_train.shape[1]])\n",
    "plt.show()"
   ]
  },
  {
   "cell_type": "markdown",
   "metadata": {},
   "source": [
    "A final method for gaining some insight into the inner working of your Random Forests models is a so-called Partial Dependence Plot. The Partial Dependence Plot (PDP or PD plot) shows the marginal effect of a feature on the predicted outcome of a previously fit model. The prediction function is fixed at a few values of the chosen features and averaged over the other features. A partial dependence plot can show if the relationship between the target and a feature is linear, monotonic or more complex. \n",
    "\n",
    "In scikit-learn, PDPs are implemented and available for certain algorithms, but at this point (version 0.20.0) they are not yet implemented for Random Forests. Thankfully, there is an add-on package called **PDPbox** (https://pdpbox.readthedocs.io/en/latest/) which adds this functionality to Random Forests. The package is easy to install through pip."
   ]
  },
  {
   "cell_type": "code",
   "execution_count": 21,
   "metadata": {},
   "outputs": [
    {
     "name": "stdout",
     "output_type": "stream",
     "text": [
      "Requirement already satisfied: pdpbox in c:\\users\\alex0\\anaconda3\\lib\\site-packages (0.2.0)\n",
      "Requirement already satisfied: numpy in c:\\users\\alex0\\anaconda3\\lib\\site-packages (from pdpbox) (1.16.2)\n",
      "Requirement already satisfied: scikit-learn in c:\\users\\alex0\\anaconda3\\lib\\site-packages (from pdpbox) (0.20.3)\n",
      "Requirement already satisfied: pandas in c:\\users\\alex0\\anaconda3\\lib\\site-packages (from pdpbox) (0.24.2)\n",
      "Requirement already satisfied: psutil in c:\\users\\alex0\\anaconda3\\lib\\site-packages (from pdpbox) (5.6.1)\n",
      "Requirement already satisfied: matplotlib>=2.1.2 in c:\\users\\alex0\\anaconda3\\lib\\site-packages (from pdpbox) (3.0.2)\n",
      "Requirement already satisfied: scipy in c:\\users\\alex0\\anaconda3\\lib\\site-packages (from pdpbox) (1.2.1)\n",
      "Requirement already satisfied: joblib in c:\\users\\alex0\\anaconda3\\lib\\site-packages (from pdpbox) (0.12.5)\n",
      "Requirement already satisfied: python-dateutil>=2.5.0 in c:\\users\\alex0\\anaconda3\\lib\\site-packages (from pandas->pdpbox) (2.8.0)\n",
      "Requirement already satisfied: pytz>=2011k in c:\\users\\alex0\\anaconda3\\lib\\site-packages (from pandas->pdpbox) (2018.9)\n",
      "Requirement already satisfied: cycler>=0.10 in c:\\users\\alex0\\anaconda3\\lib\\site-packages (from matplotlib>=2.1.2->pdpbox) (0.10.0)\n",
      "Requirement already satisfied: kiwisolver>=1.0.1 in c:\\users\\alex0\\anaconda3\\lib\\site-packages (from matplotlib>=2.1.2->pdpbox) (1.0.1)\n",
      "Requirement already satisfied: pyparsing!=2.0.4,!=2.1.2,!=2.1.6,>=2.0.1 in c:\\users\\alex0\\anaconda3\\lib\\site-packages (from matplotlib>=2.1.2->pdpbox) (2.3.1)\n",
      "Requirement already satisfied: six>=1.5 in c:\\users\\alex0\\appdata\\roaming\\python\\python36\\site-packages (from python-dateutil>=2.5.0->pandas->pdpbox) (1.12.0)\n",
      "Requirement already satisfied: setuptools in c:\\users\\alex0\\anaconda3\\lib\\site-packages (from kiwisolver>=1.0.1->matplotlib>=2.1.2->pdpbox) (40.8.0)\n"
     ]
    }
   ],
   "source": [
    "! pip install pdpbox"
   ]
  },
  {
   "cell_type": "markdown",
   "metadata": {},
   "source": [
    "While we encourage you to read the documentation for the package (and reading package documentation in general is a good habit to develop), the authors of the package have also written an excellent blog post on how to use it, showing examples on different algorithms from scikit-learn (the Random Forests example is towards the end of the blog post): https://briangriner.github.io/Partial_Dependence_Plots_presentation-BrianGriner-PrincetonPublicLibrary-4.14.18-updated-4.22.18.html"
   ]
  },
  {
   "cell_type": "markdown",
   "metadata": {},
   "source": [
    "So, armed with this new knowledge, feel free to pick a few features, and make a couple of Partial Dependence Plots of your own!"
   ]
  },
  {
   "cell_type": "code",
   "execution_count": 22,
   "metadata": {},
   "outputs": [
    {
     "ename": "TypeError",
     "evalue": "clabel() got an unexpected keyword argument 'contour_label_fontsize'",
     "output_type": "error",
     "traceback": [
      "\u001b[1;31m---------------------------------------------------------------------------\u001b[0m",
      "\u001b[1;31mTypeError\u001b[0m                                 Traceback (most recent call last)",
      "\u001b[1;32m<ipython-input-22-0bea4e8467f0>\u001b[0m in \u001b[0;36m<module>\u001b[1;34m\u001b[0m\n\u001b[0;32m      1\u001b[0m \u001b[1;32mfrom\u001b[0m \u001b[0mpdpbox\u001b[0m \u001b[1;32mimport\u001b[0m \u001b[0mpdp\u001b[0m\u001b[1;33m\u001b[0m\u001b[1;33m\u001b[0m\u001b[0m\n\u001b[0;32m      2\u001b[0m \u001b[0mpdp_duration_amount\u001b[0m \u001b[1;33m=\u001b[0m \u001b[0mpdp\u001b[0m\u001b[1;33m.\u001b[0m\u001b[0mpdp_interact\u001b[0m\u001b[1;33m(\u001b[0m\u001b[0mmodel\u001b[0m \u001b[1;33m=\u001b[0m \u001b[0mclf\u001b[0m\u001b[1;33m.\u001b[0m\u001b[0mbest_estimator_\u001b[0m\u001b[1;33m,\u001b[0m \u001b[0mdataset\u001b[0m \u001b[1;33m=\u001b[0m \u001b[0mdf\u001b[0m\u001b[1;33m,\u001b[0m \u001b[0mmodel_features\u001b[0m \u001b[1;33m=\u001b[0m \u001b[0mfeature_names\u001b[0m\u001b[1;33m,\u001b[0m \u001b[0mfeatures\u001b[0m \u001b[1;33m=\u001b[0m \u001b[1;33m[\u001b[0m\u001b[1;34m'Duration'\u001b[0m\u001b[1;33m,\u001b[0m\u001b[1;34m'Amount'\u001b[0m\u001b[1;33m]\u001b[0m\u001b[1;33m)\u001b[0m\u001b[1;33m\u001b[0m\u001b[1;33m\u001b[0m\u001b[0m\n\u001b[1;32m----> 3\u001b[1;33m \u001b[0mpdp\u001b[0m\u001b[1;33m.\u001b[0m\u001b[0mpdp_interact_plot\u001b[0m\u001b[1;33m(\u001b[0m\u001b[0mpdp_duration_amount\u001b[0m\u001b[1;33m,\u001b[0m \u001b[0mfeature_names\u001b[0m \u001b[1;33m=\u001b[0m \u001b[1;33m[\u001b[0m\u001b[1;34m'Duration'\u001b[0m\u001b[1;33m,\u001b[0m\u001b[1;34m'Amount'\u001b[0m\u001b[1;33m]\u001b[0m\u001b[1;33m)\u001b[0m\u001b[1;33m\u001b[0m\u001b[1;33m\u001b[0m\u001b[0m\n\u001b[0m",
      "\u001b[1;32m~\\Anaconda3\\lib\\site-packages\\pdpbox\\pdp.py\u001b[0m in \u001b[0;36mpdp_interact_plot\u001b[1;34m(pdp_interact_out, feature_names, plot_type, x_quantile, plot_pdp, which_classes, figsize, ncols, plot_params)\u001b[0m\n\u001b[0;32m    773\u001b[0m             \u001b[0mfig\u001b[0m\u001b[1;33m.\u001b[0m\u001b[0madd_subplot\u001b[0m\u001b[1;33m(\u001b[0m\u001b[0minter_ax\u001b[0m\u001b[1;33m)\u001b[0m\u001b[1;33m\u001b[0m\u001b[1;33m\u001b[0m\u001b[0m\n\u001b[0;32m    774\u001b[0m             _pdp_inter_one(pdp_interact_out=pdp_interact_plot_data[0], inter_ax=inter_ax, norm=None,\n\u001b[1;32m--> 775\u001b[1;33m                            feature_names=feature_names_adj, **inter_params)\n\u001b[0m\u001b[0;32m    776\u001b[0m     \u001b[1;32melse\u001b[0m\u001b[1;33m:\u001b[0m\u001b[1;33m\u001b[0m\u001b[1;33m\u001b[0m\u001b[0m\n\u001b[0;32m    777\u001b[0m         \u001b[0mwspace\u001b[0m \u001b[1;33m=\u001b[0m \u001b[1;36m0.3\u001b[0m\u001b[1;33m\u001b[0m\u001b[1;33m\u001b[0m\u001b[0m\n",
      "\u001b[1;32m~\\Anaconda3\\lib\\site-packages\\pdpbox\\pdp_plot_utils.py\u001b[0m in \u001b[0;36m_pdp_inter_one\u001b[1;34m(pdp_interact_out, feature_names, plot_type, inter_ax, x_quantile, plot_params, norm, ticks)\u001b[0m\n\u001b[0;32m    330\u001b[0m             \u001b[1;31m# for numeric not quantile\u001b[0m\u001b[1;33m\u001b[0m\u001b[1;33m\u001b[0m\u001b[1;33m\u001b[0m\u001b[0m\n\u001b[0;32m    331\u001b[0m             \u001b[0mX\u001b[0m\u001b[1;33m,\u001b[0m \u001b[0mY\u001b[0m \u001b[1;33m=\u001b[0m \u001b[0mnp\u001b[0m\u001b[1;33m.\u001b[0m\u001b[0mmeshgrid\u001b[0m\u001b[1;33m(\u001b[0m\u001b[0mpdp_interact_out\u001b[0m\u001b[1;33m.\u001b[0m\u001b[0mfeature_grids\u001b[0m\u001b[1;33m[\u001b[0m\u001b[1;36m0\u001b[0m\u001b[1;33m]\u001b[0m\u001b[1;33m,\u001b[0m \u001b[0mpdp_interact_out\u001b[0m\u001b[1;33m.\u001b[0m\u001b[0mfeature_grids\u001b[0m\u001b[1;33m[\u001b[0m\u001b[1;36m1\u001b[0m\u001b[1;33m]\u001b[0m\u001b[1;33m)\u001b[0m\u001b[1;33m\u001b[0m\u001b[1;33m\u001b[0m\u001b[0m\n\u001b[1;32m--> 332\u001b[1;33m         \u001b[0mim\u001b[0m \u001b[1;33m=\u001b[0m \u001b[0m_pdp_contour_plot\u001b[0m\u001b[1;33m(\u001b[0m\u001b[0mX\u001b[0m\u001b[1;33m=\u001b[0m\u001b[0mX\u001b[0m\u001b[1;33m,\u001b[0m \u001b[0mY\u001b[0m\u001b[1;33m=\u001b[0m\u001b[0mY\u001b[0m\u001b[1;33m,\u001b[0m \u001b[1;33m**\u001b[0m\u001b[0minter_params\u001b[0m\u001b[1;33m)\u001b[0m\u001b[1;33m\u001b[0m\u001b[1;33m\u001b[0m\u001b[0m\n\u001b[0m\u001b[0;32m    333\u001b[0m     \u001b[1;32melif\u001b[0m \u001b[0mplot_type\u001b[0m \u001b[1;33m==\u001b[0m \u001b[1;34m'grid'\u001b[0m\u001b[1;33m:\u001b[0m\u001b[1;33m\u001b[0m\u001b[1;33m\u001b[0m\u001b[0m\n\u001b[0;32m    334\u001b[0m         \u001b[0mim\u001b[0m \u001b[1;33m=\u001b[0m \u001b[0m_pdp_inter_grid\u001b[0m\u001b[1;33m(\u001b[0m\u001b[1;33m**\u001b[0m\u001b[0minter_params\u001b[0m\u001b[1;33m)\u001b[0m\u001b[1;33m\u001b[0m\u001b[1;33m\u001b[0m\u001b[0m\n",
      "\u001b[1;32m~\\Anaconda3\\lib\\site-packages\\pdpbox\\pdp_plot_utils.py\u001b[0m in \u001b[0;36m_pdp_contour_plot\u001b[1;34m(X, Y, pdp_mx, inter_ax, cmap, norm, inter_fill_alpha, fontsize, plot_params)\u001b[0m\n\u001b[0;32m    249\u001b[0m     \u001b[0mc1\u001b[0m \u001b[1;33m=\u001b[0m \u001b[0minter_ax\u001b[0m\u001b[1;33m.\u001b[0m\u001b[0mcontourf\u001b[0m\u001b[1;33m(\u001b[0m\u001b[0mX\u001b[0m\u001b[1;33m,\u001b[0m \u001b[0mY\u001b[0m\u001b[1;33m,\u001b[0m \u001b[0mpdp_mx\u001b[0m\u001b[1;33m,\u001b[0m \u001b[0mN\u001b[0m\u001b[1;33m=\u001b[0m\u001b[0mlevel\u001b[0m\u001b[1;33m,\u001b[0m \u001b[0morigin\u001b[0m\u001b[1;33m=\u001b[0m\u001b[1;34m'lower'\u001b[0m\u001b[1;33m,\u001b[0m \u001b[0mcmap\u001b[0m\u001b[1;33m=\u001b[0m\u001b[0mcmap\u001b[0m\u001b[1;33m,\u001b[0m \u001b[0mnorm\u001b[0m\u001b[1;33m=\u001b[0m\u001b[0mnorm\u001b[0m\u001b[1;33m,\u001b[0m \u001b[0malpha\u001b[0m\u001b[1;33m=\u001b[0m\u001b[0minter_fill_alpha\u001b[0m\u001b[1;33m)\u001b[0m\u001b[1;33m\u001b[0m\u001b[1;33m\u001b[0m\u001b[0m\n\u001b[0;32m    250\u001b[0m     \u001b[0mc2\u001b[0m \u001b[1;33m=\u001b[0m \u001b[0minter_ax\u001b[0m\u001b[1;33m.\u001b[0m\u001b[0mcontour\u001b[0m\u001b[1;33m(\u001b[0m\u001b[0mc1\u001b[0m\u001b[1;33m,\u001b[0m \u001b[0mlevels\u001b[0m\u001b[1;33m=\u001b[0m\u001b[0mc1\u001b[0m\u001b[1;33m.\u001b[0m\u001b[0mlevels\u001b[0m\u001b[1;33m,\u001b[0m \u001b[0mcolors\u001b[0m\u001b[1;33m=\u001b[0m\u001b[0mcontour_color\u001b[0m\u001b[1;33m,\u001b[0m \u001b[0morigin\u001b[0m\u001b[1;33m=\u001b[0m\u001b[1;34m'lower'\u001b[0m\u001b[1;33m)\u001b[0m\u001b[1;33m\u001b[0m\u001b[1;33m\u001b[0m\u001b[0m\n\u001b[1;32m--> 251\u001b[1;33m     \u001b[0minter_ax\u001b[0m\u001b[1;33m.\u001b[0m\u001b[0mclabel\u001b[0m\u001b[1;33m(\u001b[0m\u001b[0mc2\u001b[0m\u001b[1;33m,\u001b[0m \u001b[0mcontour_label_fontsize\u001b[0m\u001b[1;33m=\u001b[0m\u001b[0mfontsize\u001b[0m\u001b[1;33m,\u001b[0m \u001b[0minline\u001b[0m\u001b[1;33m=\u001b[0m\u001b[1;36m1\u001b[0m\u001b[1;33m)\u001b[0m\u001b[1;33m\u001b[0m\u001b[1;33m\u001b[0m\u001b[0m\n\u001b[0m\u001b[0;32m    252\u001b[0m     \u001b[0minter_ax\u001b[0m\u001b[1;33m.\u001b[0m\u001b[0mset_aspect\u001b[0m\u001b[1;33m(\u001b[0m\u001b[1;34m'auto'\u001b[0m\u001b[1;33m)\u001b[0m\u001b[1;33m\u001b[0m\u001b[1;33m\u001b[0m\u001b[0m\n\u001b[0;32m    253\u001b[0m \u001b[1;33m\u001b[0m\u001b[0m\n",
      "\u001b[1;32m~\\Anaconda3\\lib\\site-packages\\matplotlib\\axes\\_axes.py\u001b[0m in \u001b[0;36mclabel\u001b[1;34m(self, CS, *args, **kwargs)\u001b[0m\n\u001b[0;32m   6243\u001b[0m \u001b[1;33m\u001b[0m\u001b[0m\n\u001b[0;32m   6244\u001b[0m     \u001b[1;32mdef\u001b[0m \u001b[0mclabel\u001b[0m\u001b[1;33m(\u001b[0m\u001b[0mself\u001b[0m\u001b[1;33m,\u001b[0m \u001b[0mCS\u001b[0m\u001b[1;33m,\u001b[0m \u001b[1;33m*\u001b[0m\u001b[0margs\u001b[0m\u001b[1;33m,\u001b[0m \u001b[1;33m**\u001b[0m\u001b[0mkwargs\u001b[0m\u001b[1;33m)\u001b[0m\u001b[1;33m:\u001b[0m\u001b[1;33m\u001b[0m\u001b[1;33m\u001b[0m\u001b[0m\n\u001b[1;32m-> 6245\u001b[1;33m         \u001b[1;32mreturn\u001b[0m \u001b[0mCS\u001b[0m\u001b[1;33m.\u001b[0m\u001b[0mclabel\u001b[0m\u001b[1;33m(\u001b[0m\u001b[1;33m*\u001b[0m\u001b[0margs\u001b[0m\u001b[1;33m,\u001b[0m \u001b[1;33m**\u001b[0m\u001b[0mkwargs\u001b[0m\u001b[1;33m)\u001b[0m\u001b[1;33m\u001b[0m\u001b[1;33m\u001b[0m\u001b[0m\n\u001b[0m\u001b[0;32m   6246\u001b[0m     \u001b[0mclabel\u001b[0m\u001b[1;33m.\u001b[0m\u001b[0m__doc__\u001b[0m \u001b[1;33m=\u001b[0m \u001b[0mmcontour\u001b[0m\u001b[1;33m.\u001b[0m\u001b[0mContourSet\u001b[0m\u001b[1;33m.\u001b[0m\u001b[0mclabel\u001b[0m\u001b[1;33m.\u001b[0m\u001b[0m__doc__\u001b[0m\u001b[1;33m\u001b[0m\u001b[1;33m\u001b[0m\u001b[0m\n\u001b[0;32m   6247\u001b[0m \u001b[1;33m\u001b[0m\u001b[0m\n",
      "\u001b[1;31mTypeError\u001b[0m: clabel() got an unexpected keyword argument 'contour_label_fontsize'"
     ]
    },
    {
     "data": {
      "image/png": "[encoded data removed]",
      "text/plain": [
       "<Figure size 540x684 with 2 Axes>"
      ]
     },
     "metadata": {
      "needs_background": "light"
     },
     "output_type": "display_data"
    }
   ],
   "source": [
    "from pdpbox import pdp\n",
    "pdp_duration_amount = pdp.pdp_interact(model = clf.best_estimator_, dataset = df, model_features = feature_names, features = ['Duration','Amount'])\n",
    "pdp.pdp_interact_plot(pdp_duration_amount, feature_names = ['Duration','Amount'])"
   ]
  },
  {
   "cell_type": "markdown",
   "metadata": {},
   "source": [
    "## (Optional) Advanced Boosting-Based Algorithms"
   ]
  },
  {
   "cell_type": "markdown",
   "metadata": {},
   "source": [
    "As explained in the video lectures, the next generation of algorithms after Random Forests (that use Bagging, a.k.a. Bootstrap Aggregation) were developed using Boosting, and the first one of these were Gradient Boosted Machines, which are implemented in scikit-learn (http://scikit-learn.org/stable/modules/ensemble.html#gradient-tree-boosting)."
   ]
  },
  {
   "cell_type": "markdown",
   "metadata": {},
   "source": [
    "Still, in recent years, a number of variations on GBMs have been developed by different research amd industry groups, all of them bringing improvements, both in speed, accuracy and functionality to the original Gradient Boosting algorithms.\n",
    "\n",
    "In no order of preference, these are:\n",
    "1. **XGBoost**: https://xgboost.readthedocs.io/en/latest/\n",
    "2. **CatBoost**: https://tech.yandex.com/catboost/\n",
    "3. **LightGBM**: https://lightgbm.readthedocs.io/en/latest/"
   ]
  },
  {
   "cell_type": "markdown",
   "metadata": {},
   "source": [
    "If you're using the Anaconda distribution, these are all very easy to install:"
   ]
  },
  {
   "cell_type": "code",
   "execution_count": null,
   "metadata": {},
   "outputs": [],
   "source": [
    "! conda install -c anaconda py-xgboost"
   ]
  },
  {
   "cell_type": "code",
   "execution_count": null,
   "metadata": {},
   "outputs": [],
   "source": [
    "! conda install -c conda-forge catboost"
   ]
  },
  {
   "cell_type": "code",
   "execution_count": null,
   "metadata": {},
   "outputs": [],
   "source": [
    "! conda install -c conda-forge lightgbm"
   ]
  },
  {
   "cell_type": "markdown",
   "metadata": {},
   "source": [
    "Your task in this optional section of the mini project is to read the documentation of these three libraries, and apply all of them to the \"German Credit\" dataset, just like you did in the case of Decision Trees and Random Forests."
   ]
  },
  {
   "cell_type": "markdown",
   "metadata": {},
   "source": [
    "The final deliverable of this section should be a table (can be a pandas DataFrame) which shows the accuracy of all the five algorthms taught in this mini project in one place."
   ]
  },
  {
   "cell_type": "markdown",
   "metadata": {},
   "source": [
    "Happy modeling! :)"
   ]
  },
  {
   "cell_type": "code",
   "execution_count": 23,
   "metadata": {},
   "outputs": [
    {
     "name": "stdout",
     "output_type": "stream",
     "text": [
      "[18:20:45] src/tree/updater_prune.cc:74: tree pruning end, 1 roots, 26 extra nodes, 0 pruned nodes, max_depth=4\n",
      "[18:20:45] src/tree/updater_prune.cc:74: tree pruning end, 1 roots, 18 extra nodes, 0 pruned nodes, max_depth=4\n",
      "[18:20:45] src/tree/updater_prune.cc:74: tree pruning end, 1 roots, 12 extra nodes, 0 pruned nodes, max_depth=4\n",
      "[18:20:45] src/tree/updater_prune.cc:74: tree pruning end, 1 roots, 24 extra nodes, 0 pruned nodes, max_depth=4\n",
      "[18:20:45] src/tree/updater_prune.cc:74: tree pruning end, 1 roots, 22 extra nodes, 0 pruned nodes, max_depth=4\n",
      "[18:20:45] src/tree/updater_prune.cc:74: tree pruning end, 1 roots, 22 extra nodes, 0 pruned nodes, max_depth=4\n",
      "[18:20:45] src/tree/updater_prune.cc:74: tree pruning end, 1 roots, 20 extra nodes, 0 pruned nodes, max_depth=4\n",
      "[18:20:45] src/tree/updater_prune.cc:74: tree pruning end, 1 roots, 16 extra nodes, 0 pruned nodes, max_depth=4\n",
      "[18:20:45] src/tree/updater_prune.cc:74: tree pruning end, 1 roots, 18 extra nodes, 0 pruned nodes, max_depth=4\n",
      "[18:20:45] src/tree/updater_prune.cc:74: tree pruning end, 1 roots, 20 extra nodes, 0 pruned nodes, max_depth=4\n"
     ]
    }
   ],
   "source": [
    "import xgboost as xgb\n",
    "from sklearn.metrics import accuracy_score\n",
    "dtrain = xgb.DMatrix(X_train, label=y_train)\n",
    "param = {'max_depth': 4, 'eta': 1, 'silent': 0, 'objective': 'binary:logistic', 'nthread': 4, 'eval_metric': 'auc'}\n",
    "num_round = 10\n",
    "bst = xgb.train(param, dtrain, num_round)\n",
    "ypred = bst.predict(xgb.DMatrix(X_test))"
   ]
  },
  {
   "cell_type": "code",
   "execution_count": 24,
   "metadata": {},
   "outputs": [],
   "source": [
    "predictions = [round(value) for value in ypred]\n",
    "xgBoostAccuracy = accuracy_score(y_test, predictions)"
   ]
  },
  {
   "cell_type": "code",
   "execution_count": 25,
   "metadata": {},
   "outputs": [
    {
     "name": "stdout",
     "output_type": "stream",
     "text": [
      "0.7028571428571428\n"
     ]
    }
   ],
   "source": [
    "print(xgBoostAccuracy)"
   ]
  },
  {
   "cell_type": "code",
   "execution_count": 26,
   "metadata": {},
   "outputs": [
    {
     "name": "stdout",
     "output_type": "stream",
     "text": [
      "0:\tlearn: 0.5239868\ttotal: 80ms\tremaining: 80ms\n",
      "1:\tlearn: 0.4721385\ttotal: 110ms\tremaining: 0us\n",
      "class =  [0. 0. 0. 1. 0. 1. 0. 1. 0. 0. 0. 0. 0. 1. 1. 0. 0. 0. 0. 0. 0. 0. 0. 0.\n",
      " 0. 0. 1. 0. 0. 0. 0. 0. 0. 0. 0. 1. 1. 0. 0. 0. 0. 0. 0. 0. 0. 0. 0. 0.\n",
      " 0. 0. 1. 0. 0. 0. 0. 0. 0. 1. 1. 0. 0. 1. 0. 0. 0. 0. 0. 0. 0. 0. 0. 0.\n",
      " 0. 0. 0. 0. 0. 0. 0. 0. 0. 0. 0. 0. 0. 0. 1. 1. 0. 0. 0. 0. 1. 0. 0. 0.\n",
      " 0. 0. 1. 0. 0. 0. 0. 0. 0. 0. 1. 1. 0. 0. 1. 0. 0. 0. 0. 0. 0. 0. 0. 0.\n",
      " 0. 0. 0. 0. 1. 0. 1. 0. 0. 0. 0. 0. 0. 0. 0. 0. 0. 0. 0. 0. 0. 0. 1. 0.\n",
      " 0. 1. 0. 0. 0. 0. 0. 0. 0. 0. 0. 1. 1. 0. 0. 0. 0. 0. 1. 1. 0. 0. 0. 0.\n",
      " 0. 1. 0. 0. 0. 0. 0. 0. 0. 0. 0. 0. 0. 0. 0. 0. 0. 0. 0. 0. 0. 0. 0. 1.\n",
      " 0. 0. 0. 0. 0. 0. 0. 1. 0. 0. 0. 1. 0. 1. 0. 0. 0. 0. 0. 0. 0. 1. 0. 0.\n",
      " 0. 0. 0. 0. 0. 0. 0. 0. 1. 0. 0. 0. 0. 0. 0. 0. 0. 0. 0. 0. 0. 0. 0. 0.\n",
      " 0. 0. 0. 0. 0. 0. 0. 0. 0. 0. 0. 0. 1. 0. 0. 0. 0. 0. 1. 0. 0. 0. 0. 0.\n",
      " 0. 0. 0. 0. 0. 1. 0. 0. 0. 0. 0. 0. 0. 0. 0. 0. 0. 0. 0. 0. 0. 0. 1. 0.\n",
      " 1. 0. 1. 0. 0. 0. 0. 0. 0. 0. 0. 0. 0. 0. 1. 0. 0. 0. 1. 0. 0. 0. 0. 1.\n",
      " 0. 1. 0. 0. 0. 0. 1. 0. 0. 0. 0. 0. 0. 0. 0. 0. 1. 0. 0. 0. 0. 0. 0. 0.\n",
      " 0. 0. 0. 0. 0. 0. 0. 0. 0. 0. 0. 0. 0. 0. 0. 1. 0. 0. 0. 1. 0. 0. 0. 0.\n",
      " 0. 0. 0. 0. 0. 0. 0. 0. 0. 0. 0. 0. 0. 0. 0. 0. 0. 0. 0. 0. 0. 0. 0. 0.\n",
      " 0. 1. 0. 0. 0. 0. 0. 0. 0. 0. 0. 0. 0. 0. 0. 0. 0. 0. 0. 0. 0. 0. 0. 0.\n",
      " 0. 0. 0. 0. 0. 0. 0. 0. 0. 1. 0. 0. 1. 0. 0. 0. 0. 0. 0. 0. 0. 1. 0. 1.\n",
      " 1. 0. 0. 0. 0. 0. 0. 1. 0. 0. 0. 0. 1. 0. 0. 0. 0. 0. 0. 0. 0. 0. 0. 0.\n",
      " 1. 0. 0. 0. 1. 0. 0. 0. 0. 0. 0. 1. 0. 1. 0. 0. 0. 1. 0. 1. 1. 0. 0. 1.\n",
      " 0. 0. 1. 1. 0. 0. 0. 0. 0. 0. 1. 0. 0. 0. 0. 0. 0. 0. 0. 0. 0. 0. 1. 0.\n",
      " 1. 0. 0. 0. 0. 0. 1. 1. 0. 0. 0. 0. 0. 0. 0. 0. 0. 0. 0. 0. 1. 0. 0. 1.\n",
      " 0. 0. 0. 1. 0. 0. 0. 0. 0. 0. 0. 0. 0. 0. 0. 0. 0. 0. 0. 0. 1. 0. 0. 0.\n",
      " 0. 0. 0. 0. 0. 0. 0. 1. 0. 0. 0. 1. 0. 0. 0. 0. 0. 0. 0. 1. 0. 0. 1. 1.\n",
      " 0. 1. 0. 0. 0. 0. 1. 0. 0. 0. 0. 0. 0. 0. 0. 1. 0. 0. 0. 1. 0. 1. 0. 0.\n",
      " 0. 0. 0. 0. 0. 0. 0. 0. 0. 0. 0. 1. 0. 0. 0. 0. 0. 0. 0. 0. 0. 0. 0. 0.\n",
      " 0. 0. 0. 0. 0. 0. 1. 0. 0. 0. 0. 1. 0. 0. 0. 0. 0. 1. 0. 0. 1. 0. 0. 0.\n",
      " 0. 0. 1. 1. 0. 0. 0. 0. 0. 0. 0. 0. 0. 0. 0. 1. 1. 1. 0. 0. 0. 0. 0. 0.\n",
      " 0. 0. 0. 0. 0. 0. 0. 0. 0. 0. 0. 0. 0. 0. 1. 0. 0. 0. 0. 0. 1. 0. 0. 0.\n",
      " 0. 0. 0. 0.]\n",
      "proba =  [[0.64701577 0.35298423]\n",
      " [0.52252154 0.47747846]\n",
      " [0.64701577 0.35298423]\n",
      " ...\n",
      " [0.84243301 0.15756699]\n",
      " [0.52252154 0.47747846]\n",
      " [0.97041077 0.02958923]]\n"
     ]
    }
   ],
   "source": [
    "import numpy as np\n",
    "\n",
    "from catboost import CatBoostClassifier, Pool\n",
    "\n",
    "# initialize data\n",
    "train_data = np.random.randint(0,\n",
    "                               100, \n",
    "                               size=(100, 10))\n",
    "\n",
    "train_labels = np.random.randint(0,\n",
    "                                 2,\n",
    "                                 size=(100))\n",
    "\n",
    "test_data = catboost_pool = Pool(X_test, \n",
    "                                 y_test)\n",
    "\n",
    "model = CatBoostClassifier(iterations=2,\n",
    "                           depth=4,\n",
    "                           learning_rate=1,\n",
    "                           loss_function='Logloss',\n",
    "                           verbose=True)\n",
    "# train the model\n",
    "model.fit(X_train, y_train)\n",
    "# make the prediction using the resulting model\n",
    "preds_class = model.predict(test_data)\n",
    "preds_proba = model.predict_proba(test_data)\n",
    "print(\"class = \", preds_class)\n",
    "print(\"proba = \", preds_proba)"
   ]
  },
  {
   "cell_type": "code",
   "execution_count": 27,
   "metadata": {},
   "outputs": [
    {
     "name": "stdout",
     "output_type": "stream",
     "text": [
      "0.7328571428571429\n"
     ]
    }
   ],
   "source": [
    "catBoost = accuracy_score(y_test, preds_class)\n",
    "print(catBoost)"
   ]
  },
  {
   "cell_type": "code",
   "execution_count": 28,
   "metadata": {},
   "outputs": [
    {
     "name": "stdout",
     "output_type": "stream",
     "text": [
      "[1]\tvalid_0's auc: 0.690519\n",
      "[2]\tvalid_0's auc: 0.686537\n",
      "[3]\tvalid_0's auc: 0.703697\n",
      "[4]\tvalid_0's auc: 0.704249\n",
      "[5]\tvalid_0's auc: 0.707127\n",
      "[6]\tvalid_0's auc: 0.709936\n",
      "[7]\tvalid_0's auc: 0.717602\n",
      "[8]\tvalid_0's auc: 0.720074\n",
      "[9]\tvalid_0's auc: 0.718154\n",
      "[10]\tvalid_0's auc: 0.713434\n",
      "[11]\tvalid_0's auc: 0.716346\n",
      "[12]\tvalid_0's auc: 0.719717\n",
      "[13]\tvalid_0's auc: 0.72066\n",
      "[14]\tvalid_0's auc: 0.720905\n",
      "[15]\tvalid_0's auc: 0.723582\n",
      "[16]\tvalid_0's auc: 0.726543\n",
      "[17]\tvalid_0's auc: 0.726475\n",
      "[18]\tvalid_0's auc: 0.729856\n",
      "[19]\tvalid_0's auc: 0.729914\n",
      "[20]\tvalid_0's auc: 0.728888\n",
      "[21]\tvalid_0's auc: 0.730305\n",
      "[22]\tvalid_0's auc: 0.730295\n",
      "[23]\tvalid_0's auc: 0.730603\n",
      "[24]\tvalid_0's auc: 0.73201\n",
      "[25]\tvalid_0's auc: 0.732978\n",
      "[26]\tvalid_0's auc: 0.734209\n",
      "[27]\tvalid_0's auc: 0.736368\n",
      "[28]\tvalid_0's auc: 0.736622\n",
      "[29]\tvalid_0's auc: 0.73628\n",
      "[30]\tvalid_0's auc: 0.737434\n",
      "[31]\tvalid_0's auc: 0.739241\n",
      "[32]\tvalid_0's auc: 0.741049\n",
      "[33]\tvalid_0's auc: 0.741909\n",
      "[34]\tvalid_0's auc: 0.741948\n",
      "[35]\tvalid_0's auc: 0.743814\n",
      "[36]\tvalid_0's auc: 0.743091\n",
      "[37]\tvalid_0's auc: 0.743854\n",
      "[38]\tvalid_0's auc: 0.742564\n",
      "[39]\tvalid_0's auc: 0.742515\n",
      "[40]\tvalid_0's auc: 0.742964\n",
      "[41]\tvalid_0's auc: 0.743834\n",
      "[42]\tvalid_0's auc: 0.742378\n",
      "[43]\tvalid_0's auc: 0.743033\n",
      "[44]\tvalid_0's auc: 0.742173\n",
      "[45]\tvalid_0's auc: 0.742368\n",
      "[46]\tvalid_0's auc: 0.742691\n",
      "[47]\tvalid_0's auc: 0.74228\n",
      "[48]\tvalid_0's auc: 0.743648\n",
      "[49]\tvalid_0's auc: 0.743824\n",
      "[50]\tvalid_0's auc: 0.743121\n",
      "[51]\tvalid_0's auc: 0.743228\n",
      "[52]\tvalid_0's auc: 0.743062\n",
      "[53]\tvalid_0's auc: 0.74356\n",
      "[54]\tvalid_0's auc: 0.743824\n",
      "[55]\tvalid_0's auc: 0.743658\n",
      "[56]\tvalid_0's auc: 0.744293\n",
      "[57]\tvalid_0's auc: 0.744117\n",
      "[58]\tvalid_0's auc: 0.744401\n",
      "[59]\tvalid_0's auc: 0.743472\n",
      "[60]\tvalid_0's auc: 0.743883\n",
      "[61]\tvalid_0's auc: 0.743433\n",
      "[62]\tvalid_0's auc: 0.743336\n",
      "[63]\tvalid_0's auc: 0.743482\n",
      "[64]\tvalid_0's auc: 0.743326\n",
      "[65]\tvalid_0's auc: 0.744371\n",
      "[66]\tvalid_0's auc: 0.743961\n",
      "[67]\tvalid_0's auc: 0.744489\n",
      "[68]\tvalid_0's auc: 0.74399\n",
      "[69]\tvalid_0's auc: 0.74444\n",
      "[70]\tvalid_0's auc: 0.743932\n",
      "[71]\tvalid_0's auc: 0.743717\n",
      "[72]\tvalid_0's auc: 0.743717\n",
      "[73]\tvalid_0's auc: 0.743844\n",
      "[74]\tvalid_0's auc: 0.74316\n",
      "[75]\tvalid_0's auc: 0.743942\n",
      "[76]\tvalid_0's auc: 0.743385\n",
      "[77]\tvalid_0's auc: 0.742671\n",
      "[78]\tvalid_0's auc: 0.742515\n",
      "[79]\tvalid_0's auc: 0.741889\n",
      "[80]\tvalid_0's auc: 0.74187\n",
      "[81]\tvalid_0's auc: 0.741587\n",
      "[82]\tvalid_0's auc: 0.741655\n",
      "[83]\tvalid_0's auc: 0.74273\n",
      "[84]\tvalid_0's auc: 0.742173\n",
      "[85]\tvalid_0's auc: 0.742427\n",
      "[86]\tvalid_0's auc: 0.742622\n",
      "[87]\tvalid_0's auc: 0.741958\n",
      "[88]\tvalid_0's auc: 0.742163\n",
      "[89]\tvalid_0's auc: 0.742828\n",
      "[90]\tvalid_0's auc: 0.742984\n",
      "[91]\tvalid_0's auc: 0.742652\n",
      "[92]\tvalid_0's auc: 0.742867\n",
      "[93]\tvalid_0's auc: 0.742994\n",
      "[94]\tvalid_0's auc: 0.742661\n",
      "[95]\tvalid_0's auc: 0.741938\n",
      "[96]\tvalid_0's auc: 0.742153\n",
      "[97]\tvalid_0's auc: 0.741401\n",
      "[98]\tvalid_0's auc: 0.741342\n",
      "[99]\tvalid_0's auc: 0.741147\n",
      "[100]\tvalid_0's auc: 0.741137\n"
     ]
    }
   ],
   "source": [
    "import lightgbm as lgb\n",
    "\n",
    "train_data = lgb.Dataset(X_train, label=y_train)\n",
    "validation_data = lgb.Dataset(X_test, y_test)\n",
    "param = {'num_leaves':31, 'num_trees':100, 'objective':'binary'}\n",
    "param['metric'] = 'auc'\n",
    "num_round = 10\n",
    "bst = lgb.train(param, train_data, num_round, valid_sets=[validation_data])\n",
    "ypred = bst.predict(X_test)"
   ]
  },
  {
   "cell_type": "code",
   "execution_count": 29,
   "metadata": {},
   "outputs": [
    {
     "name": "stdout",
     "output_type": "stream",
     "text": [
      "[4.30031171e-01 3.86768630e-01 8.12078180e-01 2.46037297e-01\n",
      " 9.83904454e-03 6.14944132e-01 9.12763049e-03 1.60182638e-01\n",
      " 7.32336732e-02 7.86089390e-02 1.05556957e-02 9.09839149e-01\n",
      " 6.74571504e-02 9.44011141e-01 9.89265495e-01 2.56801208e-01\n",
      " 3.49565263e-03 2.04530870e-02 8.29374637e-01 7.38924179e-02\n",
      " 5.23519317e-02 7.19482818e-01 7.58047623e-03 5.22983259e-04\n",
      " 3.43254613e-03 8.66645500e-01 9.13846000e-01 4.71760290e-01\n",
      " 4.02969524e-02 3.06531032e-02 9.33557865e-02 5.50822366e-03\n",
      " 2.49321635e-02 3.73354935e-02 1.76020875e-01 2.99219576e-02\n",
      " 8.50520393e-01 1.67129452e-01 3.47963338e-03 9.37484118e-01\n",
      " 6.30486181e-01 2.41375265e-03 4.07174823e-01 7.68278248e-03\n",
      " 1.05754208e-02 5.16585230e-02 8.33072561e-01 1.31604496e-01\n",
      " 4.04734366e-01 5.24632433e-02 9.23510536e-01 1.13306329e-02\n",
      " 3.35671462e-01 7.77658988e-01 1.01671498e-02 1.82870791e-02\n",
      " 1.96442424e-02 9.77781199e-01 6.51423062e-01 1.90021425e-01\n",
      " 4.00993813e-02 8.85502211e-01 3.30799204e-01 1.86100935e-03\n",
      " 6.50113736e-01 1.49648762e-01 3.39283746e-02 9.50272825e-01\n",
      " 1.14887628e-01 1.79947381e-02 5.88161897e-01 3.59610032e-03\n",
      " 7.31545560e-03 4.04063637e-02 1.77959504e-01 5.40488402e-01\n",
      " 4.30541868e-01 2.11670907e-01 2.29655290e-02 2.39323346e-01\n",
      " 3.18942545e-01 1.38129489e-02 1.74487187e-03 6.79029885e-01\n",
      " 2.75663078e-02 1.28425375e-01 9.63442925e-01 9.83841769e-01\n",
      " 2.70333283e-01 1.89701916e-02 6.64444534e-01 5.27859227e-03\n",
      " 9.36895683e-01 4.56512428e-01 1.53158300e-03 9.51896908e-03\n",
      " 5.45850183e-03 2.35414454e-01 9.39197162e-01 1.34500513e-02\n",
      " 1.41927981e-03 4.88891000e-01 1.55621944e-02 4.50144723e-03\n",
      " 3.94001495e-03 6.95745263e-02 4.07449227e-02 4.63073186e-01\n",
      " 2.89225058e-02 5.71970892e-01 9.14473015e-01 4.48632744e-02\n",
      " 4.51267526e-01 6.45788470e-03 7.38748229e-01 2.54314783e-02\n",
      " 5.62136208e-02 3.37645049e-01 4.59147678e-02 8.54445218e-02\n",
      " 8.16606349e-02 3.72964995e-02 3.97889156e-02 4.44059123e-01\n",
      " 5.47609633e-02 7.33465345e-02 8.70681033e-01 9.97763531e-03\n",
      " 3.67816827e-04 9.23726750e-03 4.53303364e-02 1.24931646e-02\n",
      " 3.65661458e-02 1.16343997e-02 1.72863493e-01 1.19169425e-01\n",
      " 7.85896895e-01 5.54976635e-03 2.31778383e-02 3.85934665e-02\n",
      " 6.17443776e-01 5.02906484e-01 3.54873223e-01 5.82073597e-03\n",
      " 1.65135744e-01 7.03325509e-01 7.60177885e-01 5.61495512e-02\n",
      " 1.73009916e-01 7.59140967e-01 3.18888856e-03 3.90605402e-02\n",
      " 6.03057712e-02 4.35629268e-02 2.80929194e-02 1.13860342e-01\n",
      " 3.00732148e-01 1.03139911e-02 8.33682056e-01 2.08843235e-01\n",
      " 3.01704906e-01 9.90656932e-03 5.94016538e-01 9.82447837e-01\n",
      " 5.08448683e-02 1.52082777e-01 1.31742140e-02 1.69865422e-01\n",
      " 1.01956010e-01 7.84265200e-01 1.03011482e-02 1.65088565e-02\n",
      " 2.45089661e-02 6.97717954e-02 1.76087434e-03 2.51100144e-02\n",
      " 2.07392092e-01 2.42702237e-03 1.34067666e-01 5.78095237e-01\n",
      " 6.62979954e-02 1.48619434e-02 3.64618707e-02 9.83764020e-03\n",
      " 8.39536208e-03 8.78757622e-03 9.24364715e-01 1.94371514e-03\n",
      " 1.76508164e-01 1.54460554e-03 1.01450514e-01 9.72706017e-01\n",
      " 3.40176308e-01 3.59964363e-01 7.83630606e-02 3.83396908e-03\n",
      " 4.69403178e-01 7.30239037e-01 1.68115142e-01 1.85046824e-01\n",
      " 7.36690301e-01 7.52123237e-02 3.48827293e-03 2.70305734e-01\n",
      " 2.59160605e-01 9.84012952e-01 4.20849366e-03 1.90929633e-01\n",
      " 3.26915098e-01 2.54535397e-03 1.69190364e-01 9.39919423e-01\n",
      " 9.04618545e-01 3.77277108e-02 6.68680544e-01 2.62665308e-02\n",
      " 3.76015329e-03 1.67540099e-02 9.40865040e-02 3.86321614e-01\n",
      " 1.63178425e-02 5.61230867e-03 1.02224559e-01 4.28770322e-02\n",
      " 7.58594382e-01 6.55400806e-04 8.13308410e-03 3.54209320e-01\n",
      " 1.09440786e-02 1.04616927e-01 8.24553682e-02 6.97029523e-03\n",
      " 9.63429843e-01 8.74925730e-03 3.67116479e-02 8.07515930e-01\n",
      " 1.18418348e-01 1.54464280e-03 2.07745832e-01 6.70742394e-02\n",
      " 6.27583899e-01 2.47921465e-03 1.18522020e-01 7.42862033e-02\n",
      " 1.30846041e-02 6.75606790e-03 4.08686530e-03 3.86880889e-01\n",
      " 2.38606686e-02 7.39845660e-01 1.99409270e-01 1.34795881e-02\n",
      " 9.20049935e-01 5.70005331e-03 4.74797556e-02 6.20314988e-01\n",
      " 3.77753527e-03 2.87036029e-03 8.82516279e-01 7.86800966e-01\n",
      " 4.59892452e-01 3.86676750e-02 8.12139707e-02 2.10663141e-02\n",
      " 2.49867147e-01 1.03355919e-01 2.74482180e-01 2.16325799e-01\n",
      " 8.10104198e-01 2.87902925e-01 5.83238333e-03 1.16532175e-01\n",
      " 1.09422662e-02 1.08008870e-02 5.75241627e-03 8.31175505e-01\n",
      " 1.09738074e-03 1.49133376e-01 1.96401932e-03 4.51352112e-01\n",
      " 6.06881709e-01 3.80342851e-02 1.64255046e-01 9.32657796e-02\n",
      " 2.41975860e-03 8.45727832e-02 9.89247665e-01 1.81019321e-02\n",
      " 9.46340117e-01 3.27838154e-03 8.49453209e-01 6.78774521e-02\n",
      " 3.83916614e-01 1.40330463e-02 6.22728529e-02 9.18599708e-02\n",
      " 5.65069365e-01 6.34778443e-02 2.58894060e-01 6.98624997e-01\n",
      " 4.29280370e-01 6.12824323e-03 2.10935733e-01 2.64580932e-02\n",
      " 1.72362715e-02 9.79105641e-04 9.19743079e-01 4.67917040e-01\n",
      " 8.56960252e-01 5.00347744e-03 5.28938729e-01 3.77647709e-01\n",
      " 6.67233681e-02 7.02981586e-01 1.03455515e-02 1.35537770e-03\n",
      " 8.03791774e-02 9.42308215e-04 9.27145615e-01 4.57925657e-01\n",
      " 7.71463788e-01 6.86080101e-01 1.59975638e-02 1.07568102e-02\n",
      " 8.84727240e-01 4.26774977e-03 1.89180997e-01 1.33751875e-01\n",
      " 6.26620960e-01 7.44340285e-01 2.10151647e-01 4.73553390e-01\n",
      " 7.61060570e-01 5.37119659e-03 3.40799769e-03 4.54041991e-02\n",
      " 2.75023063e-01 7.79629890e-03 1.30060100e-01 1.04870194e-02\n",
      " 6.79910719e-01 1.57498774e-01 1.78723854e-01 2.13327315e-01\n",
      " 1.64079689e-03 2.71634032e-02 3.99661117e-01 3.19873789e-02\n",
      " 4.81685744e-04 2.36769742e-02 1.36541138e-01 9.33107536e-01\n",
      " 1.18213012e-01 1.88963838e-01 6.08217334e-01 8.44539623e-01\n",
      " 1.20325646e-02 3.46799918e-02 1.07561256e-02 3.34909172e-02\n",
      " 1.24984397e-01 9.63903906e-02 2.08851673e-03 1.47648066e-01\n",
      " 1.15286019e-01 4.54974916e-02 3.19157641e-03 2.42713531e-03\n",
      " 5.21538248e-02 1.33895368e-03 2.38330380e-02 3.40273360e-01\n",
      " 1.44388840e-01 1.19594738e-01 1.86306188e-02 9.07327126e-02\n",
      " 8.33505806e-03 2.84677755e-01 2.21462131e-01 4.96809576e-01\n",
      " 2.61797453e-03 2.48089430e-01 1.60137775e-02 5.22983259e-04\n",
      " 1.12763604e-01 1.08307383e-01 9.29255590e-01 1.55806502e-01\n",
      " 5.36434922e-03 9.12252628e-03 2.67235063e-03 7.13659935e-01\n",
      " 1.12609232e-01 6.06730191e-01 9.52423544e-02 3.43766233e-01\n",
      " 8.55978393e-01 1.37179680e-01 1.13380690e-02 5.03197990e-03\n",
      " 1.50499557e-02 1.11704639e-01 1.25953137e-01 5.46607628e-02\n",
      " 1.67458213e-01 9.99141445e-03 5.20728328e-01 8.73576826e-01\n",
      " 1.91979601e-01 1.71281284e-01 3.10362623e-02 4.29017405e-02\n",
      " 8.94094909e-04 1.99879520e-02 2.40153392e-03 3.97509930e-03\n",
      " 2.25325511e-02 7.22953124e-01 1.69258297e-01 3.94212524e-02\n",
      " 7.86935628e-01 1.43993065e-02 4.25132458e-02 8.10502071e-02\n",
      " 4.13082997e-03 6.74894499e-01 7.17082213e-02 1.46926243e-03\n",
      " 2.36231817e-02 9.66293318e-01 8.86043394e-01 8.77694426e-01\n",
      " 9.65541654e-02 8.21691993e-02 1.81489481e-01 5.96387219e-01\n",
      " 4.53756527e-01 4.89535058e-01 3.20072973e-01 6.22570885e-01\n",
      " 6.92898021e-02 1.27494996e-02 3.55556210e-01 5.03267288e-01\n",
      " 9.07355233e-01 7.22734439e-01 8.85489428e-02 4.80358772e-02\n",
      " 4.07721232e-01 1.07011216e-02 7.58643333e-01 1.79938437e-01\n",
      " 8.61096484e-03 8.39663781e-01 5.13711222e-01 9.38229331e-01\n",
      " 3.25862206e-01 4.28844040e-02 4.90768330e-01 4.33833277e-04\n",
      " 1.43008464e-01 7.43617672e-01 2.98660425e-02 3.30253330e-01\n",
      " 4.14123410e-02 1.59066726e-02 2.80489436e-02 3.50983334e-01\n",
      " 4.93386089e-01 7.45652276e-02 2.50736955e-02 8.81860902e-03\n",
      " 9.39290390e-01 5.46341401e-01 3.07842347e-01 8.99939379e-01\n",
      " 4.78783330e-01 6.22284923e-04 6.34434260e-01 3.91985829e-01\n",
      " 2.37469787e-01 2.63442117e-02 9.58833222e-01 2.13099988e-01\n",
      " 3.42737386e-02 4.97633278e-02 2.01696338e-01 7.18001339e-02\n",
      " 4.95261358e-01 2.27117670e-03 5.04682899e-01 3.59368443e-02\n",
      " 1.25144380e-02 1.17872649e-01 5.05488025e-03 1.29118302e-02\n",
      " 5.10719610e-01 3.89210570e-01 2.97164076e-01 4.30769759e-02\n",
      " 5.55540134e-03 1.99976544e-02 7.31864292e-01 7.35242291e-01\n",
      " 2.72326578e-01 1.21982077e-03 3.68953237e-01 7.61964941e-01\n",
      " 1.80490119e-02 9.02899147e-01 7.74522055e-01 9.86245739e-01\n",
      " 2.55285093e-03 8.53278830e-01 2.42762654e-02 3.28736625e-02\n",
      " 1.69819687e-02 2.01696195e-01 5.22860154e-01 3.81151240e-02\n",
      " 3.90402253e-04 1.50499317e-01 1.03994420e-01 7.41518545e-01\n",
      " 7.72420209e-01 4.99485574e-03 1.99684730e-01 5.64203902e-01\n",
      " 2.07269407e-01 6.90216703e-02 7.14081045e-01 1.30153158e-01\n",
      " 9.24692001e-02 3.34038365e-02 2.23420304e-02 6.48704695e-01\n",
      " 1.47051570e-01 3.78445006e-02 8.30220073e-01 7.68580596e-01\n",
      " 2.08614720e-01 1.16568732e-03 1.52113013e-01 4.73529464e-01\n",
      " 5.72645772e-02 3.21613885e-03 3.67938935e-02 1.65667420e-01\n",
      " 4.16741674e-01 1.72744780e-02 6.14203093e-01 2.38690720e-02\n",
      " 6.72386269e-02 1.62178193e-01 5.62858515e-02 3.44898851e-02\n",
      " 1.75337588e-01 4.54498511e-01 7.08185593e-03 5.21933438e-02\n",
      " 1.09963190e-02 6.38006172e-02 2.18057069e-01 2.24443686e-01\n",
      " 5.19633327e-03 7.33964627e-02 6.06981494e-02 2.55787761e-01\n",
      " 1.52309117e-01 1.17705060e-01 1.98887439e-03 7.23827943e-01\n",
      " 3.21762353e-03 5.41192757e-01 7.91618595e-01 8.73231187e-01\n",
      " 6.65048088e-01 1.20616823e-01 8.13795364e-03 1.19776103e-03\n",
      " 7.43945465e-01 1.19437000e-03 5.52671947e-01 5.46919022e-02\n",
      " 6.42575653e-01 3.44273192e-01 3.75917464e-03 2.26394558e-01\n",
      " 1.71696027e-01 1.00132036e-01 3.85587324e-01 2.08046569e-01\n",
      " 1.37970397e-01 1.37420906e-01 1.91620636e-01 5.56927365e-01\n",
      " 7.55386987e-01 9.53698385e-01 9.07109489e-01 7.42881018e-01\n",
      " 6.67218585e-01 4.26603162e-01 1.17737702e-01 2.11855823e-01\n",
      " 2.32480539e-01 2.95962562e-01 7.04758839e-02 3.35395555e-03\n",
      " 8.43554668e-01 8.93243670e-03 6.46986783e-01 2.48859383e-01\n",
      " 1.57482533e-01 1.98330899e-03 1.00749680e-02 9.39150304e-01\n",
      " 8.12562887e-01 9.36156659e-02 1.65334058e-02 1.06741830e-02\n",
      " 4.81223380e-02 4.22527904e-01 1.55680807e-03 3.64142282e-01\n",
      " 4.23231171e-03 1.68811964e-01 3.55549311e-02 4.47938259e-01\n",
      " 5.86825074e-02 6.01603113e-02 6.05538250e-02 7.16436319e-02\n",
      " 7.31225288e-04 8.34197469e-03 1.02950002e-02 3.25826023e-01\n",
      " 1.66563191e-02 2.05361221e-01 3.37081353e-03 6.86651957e-01\n",
      " 9.49768807e-01 9.75596721e-01 5.19701882e-02 6.87969525e-01\n",
      " 9.00051319e-01 2.70127862e-02 3.39368009e-02 4.67005498e-01\n",
      " 6.02248873e-01 8.52032017e-03 5.38004397e-01 3.72630999e-01\n",
      " 7.31040474e-02 2.26370157e-01 5.32350630e-02 6.43987234e-02\n",
      " 6.98083485e-01 3.01994848e-02 1.31076646e-02 3.51546644e-02\n",
      " 8.01509343e-01 3.29264827e-03 5.05550910e-01 8.91851524e-01\n",
      " 4.00810630e-01 5.82009666e-01 4.27509052e-04 3.32618666e-02\n",
      " 1.43191456e-02 3.56735793e-01 2.11907144e-02 7.58830375e-02\n",
      " 7.30059914e-01 3.58433530e-01 1.23403247e-02 5.03183944e-03\n",
      " 7.75357200e-04 5.47663010e-01 6.97783658e-01 3.16063596e-01\n",
      " 4.82666161e-01 5.20982207e-02 2.55173420e-01 3.92693383e-03\n",
      " 1.00857538e-03 1.29460136e-01 5.28336438e-03 1.13972727e-02\n",
      " 6.03700974e-02 2.57061924e-02 2.85243545e-01 3.52069735e-02\n",
      " 7.88221373e-01 5.62574305e-03 1.87757469e-04 9.83964449e-02\n",
      " 4.31698518e-01 6.81357002e-02 5.53787028e-01 4.95821767e-03]\n"
     ]
    }
   ],
   "source": [
    "print(ypred)"
   ]
  },
  {
   "cell_type": "code",
   "execution_count": 30,
   "metadata": {},
   "outputs": [
    {
     "name": "stdout",
     "output_type": "stream",
     "text": [
      "0.7214285714285714\n"
     ]
    }
   ],
   "source": [
    "predictions = [round(value) for value in ypred]\n",
    "lightgbm = accuracy_score(y_test, predictions)\n",
    "print(lightgbm)"
   ]
  },
  {
   "cell_type": "code",
   "execution_count": 31,
   "metadata": {},
   "outputs": [
    {
     "name": "stdout",
     "output_type": "stream",
     "text": [
      "           names    values\n",
      "0          dTree  0.712857\n",
      "1  Random Forest  0.711429\n",
      "2        xgBoost  0.702857\n",
      "3       catBoost  0.732857\n",
      "4       lightgbm  0.721429\n"
     ]
    }
   ],
   "source": [
    "accuracyDF = pd.DataFrame()\n",
    "accuracyDF[\"names\"] = [\"dTree\", \"Random Forest\", \"xgBoost\", \"catBoost\", \"lightgbm\"]\n",
    "accuracyDF[\"values\"] = [decision_tree, rand_forest, xgBoostAccuracy, catBoost, lightgbm]\n",
    "print(accuracyDF)"
   ]
  }
 ],
 "metadata": {
  "kernelspec": {
   "display_name": "Python 3",
   "language": "python",
   "name": "python3"
  },
  "language_info": {
   "codemirror_mode": {
    "name": "ipython",
    "version": 3
   },
   "file_extension": ".py",
   "mimetype": "text/x-python",
   "name": "python",
   "nbconvert_exporter": "python",
   "pygments_lexer": "ipython3",
   "version": "3.6.8"
  }
 },
 "nbformat": 4,
 "nbformat_minor": 2
}
